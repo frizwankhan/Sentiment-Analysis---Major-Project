{
  "nbformat": 4,
  "nbformat_minor": 0,
  "metadata": {
    "colab": {
      "name": "SmartKnower MajorProject.ipynb",
      "provenance": [],
      "collapsed_sections": [],
      "toc_visible": true,
      "include_colab_link": true
    },
    "kernelspec": {
      "name": "python3",
      "display_name": "Python 3"
    },
    "accelerator": "GPU"
  },
  "cells": [
    {
      "cell_type": "markdown",
      "metadata": {
        "id": "view-in-github",
        "colab_type": "text"
      },
      "source": [
        "<a href=\"https://colab.research.google.com/github/frizwankhan/Sentiment-Analysis-Major-Project/blob/main/SmartKnower_MajorProject.ipynb\" target=\"_parent\"><img src=\"https://colab.research.google.com/assets/colab-badge.svg\" alt=\"Open In Colab\"/></a>"
      ]
    },
    {
      "cell_type": "markdown",
      "metadata": {
        "id": "okWWvJsDjDd8"
      },
      "source": [
        "# SmartKnower Internship Major project"
      ]
    },
    {
      "cell_type": "code",
      "metadata": {
        "id": "2pGN-jZ8tlRw",
        "colab": {
          "base_uri": "https://localhost:8080/"
        },
        "outputId": "33a3014a-0fe9-4640-c7ac-ee0ecffbf2f8"
      },
      "source": [
        "import pandas as pd\r\n",
        "import numpy as np\r\n",
        "from sklearn.feature_extraction.text import TfidfVectorizer\r\n",
        "import tensorflow as tf\r\n",
        "from tensorflow import keras\r\n",
        "\r\n",
        "import nltk\r\n",
        "nltk.download('stopwords')\r\n",
        "from nltk.corpus import stopwords\r\n",
        "import nltk\r\n",
        "from nltk.tokenize import RegexpTokenizer\r\n",
        "from nltk.stem import WordNetLemmatizer\r\n",
        "from nltk.stem.porter import PorterStemmer\r\n",
        "\r\n",
        "from sklearn.feature_extraction.text import TfidfVectorizer\r\n",
        "from sklearn.model_selection import train_test_split"
      ],
      "execution_count": 4,
      "outputs": [
        {
          "output_type": "stream",
          "text": [
            "[nltk_data] Downloading package stopwords to /root/nltk_data...\n",
            "[nltk_data]   Package stopwords is already up-to-date!\n"
          ],
          "name": "stdout"
        }
      ]
    },
    {
      "cell_type": "code",
      "metadata": {
        "id": "iuei6uBUjI41",
        "colab": {
          "base_uri": "https://localhost:8080/",
          "height": 202
        },
        "outputId": "492d2c19-2245-4b96-b250-0ccc0b55b55c"
      },
      "source": [
        "df = pd.read_csv('/content/data.csv')\r\n",
        "df.head()\r\n"
      ],
      "execution_count": 5,
      "outputs": [
        {
          "output_type": "execute_result",
          "data": {
            "text/html": [
              "<div>\n",
              "<style scoped>\n",
              "    .dataframe tbody tr th:only-of-type {\n",
              "        vertical-align: middle;\n",
              "    }\n",
              "\n",
              "    .dataframe tbody tr th {\n",
              "        vertical-align: top;\n",
              "    }\n",
              "\n",
              "    .dataframe thead th {\n",
              "        text-align: right;\n",
              "    }\n",
              "</style>\n",
              "<table border=\"1\" class=\"dataframe\">\n",
              "  <thead>\n",
              "    <tr style=\"text-align: right;\">\n",
              "      <th></th>\n",
              "      <th>review</th>\n",
              "      <th>rating</th>\n",
              "    </tr>\n",
              "  </thead>\n",
              "  <tbody>\n",
              "    <tr>\n",
              "      <th>0</th>\n",
              "      <td>It was nice produt. I like it's design a lot. ...</td>\n",
              "      <td>5</td>\n",
              "    </tr>\n",
              "    <tr>\n",
              "      <th>1</th>\n",
              "      <td>awesome sound....very pretty to see this nd th...</td>\n",
              "      <td>5</td>\n",
              "    </tr>\n",
              "    <tr>\n",
              "      <th>2</th>\n",
              "      <td>awesome sound quality. pros 7-8 hrs of battery...</td>\n",
              "      <td>4</td>\n",
              "    </tr>\n",
              "    <tr>\n",
              "      <th>3</th>\n",
              "      <td>I think it is such a good product not only as ...</td>\n",
              "      <td>5</td>\n",
              "    </tr>\n",
              "    <tr>\n",
              "      <th>4</th>\n",
              "      <td>awesome bass sound quality very good bettary l...</td>\n",
              "      <td>5</td>\n",
              "    </tr>\n",
              "  </tbody>\n",
              "</table>\n",
              "</div>"
            ],
            "text/plain": [
              "                                              review  rating\n",
              "0  It was nice produt. I like it's design a lot. ...       5\n",
              "1  awesome sound....very pretty to see this nd th...       5\n",
              "2  awesome sound quality. pros 7-8 hrs of battery...       4\n",
              "3  I think it is such a good product not only as ...       5\n",
              "4  awesome bass sound quality very good bettary l...       5"
            ]
          },
          "metadata": {
            "tags": []
          },
          "execution_count": 5
        }
      ]
    },
    {
      "cell_type": "code",
      "metadata": {
        "colab": {
          "base_uri": "https://localhost:8080/",
          "height": 415
        },
        "id": "8ee5K164D-0Z",
        "outputId": "b5c721bf-1a11-4d6c-f445-bd5649865e0a"
      },
      "source": [
        "import string\r\n",
        "\r\n",
        "def remove_punctuations(text):\r\n",
        "    for punctuation in string.punctuation:\r\n",
        "        text = text.replace(punctuation, '')\r\n",
        "    return text\r\n",
        "\r\n",
        "df['review'] = df['review'].apply(remove_punctuations)\r\n",
        "df"
      ],
      "execution_count": 3,
      "outputs": [
        {
          "output_type": "execute_result",
          "data": {
            "text/html": [
              "<div>\n",
              "<style scoped>\n",
              "    .dataframe tbody tr th:only-of-type {\n",
              "        vertical-align: middle;\n",
              "    }\n",
              "\n",
              "    .dataframe tbody tr th {\n",
              "        vertical-align: top;\n",
              "    }\n",
              "\n",
              "    .dataframe thead th {\n",
              "        text-align: right;\n",
              "    }\n",
              "</style>\n",
              "<table border=\"1\" class=\"dataframe\">\n",
              "  <thead>\n",
              "    <tr style=\"text-align: right;\">\n",
              "      <th></th>\n",
              "      <th>review</th>\n",
              "      <th>rating</th>\n",
              "    </tr>\n",
              "  </thead>\n",
              "  <tbody>\n",
              "    <tr>\n",
              "      <th>0</th>\n",
              "      <td>It was nice produt I like its design a lot  It...</td>\n",
              "      <td>5</td>\n",
              "    </tr>\n",
              "    <tr>\n",
              "      <th>1</th>\n",
              "      <td>awesome soundvery pretty to see this nd the so...</td>\n",
              "      <td>5</td>\n",
              "    </tr>\n",
              "    <tr>\n",
              "      <th>2</th>\n",
              "      <td>awesome sound quality pros 78 hrs of battery l...</td>\n",
              "      <td>4</td>\n",
              "    </tr>\n",
              "    <tr>\n",
              "      <th>3</th>\n",
              "      <td>I think it is such a good product not only as ...</td>\n",
              "      <td>5</td>\n",
              "    </tr>\n",
              "    <tr>\n",
              "      <th>4</th>\n",
              "      <td>awesome bass sound quality very good bettary l...</td>\n",
              "      <td>5</td>\n",
              "    </tr>\n",
              "    <tr>\n",
              "      <th>...</th>\n",
              "      <td>...</td>\n",
              "      <td>...</td>\n",
              "    </tr>\n",
              "    <tr>\n",
              "      <th>9971</th>\n",
              "      <td>GoodREAD MORE</td>\n",
              "      <td>5</td>\n",
              "    </tr>\n",
              "    <tr>\n",
              "      <th>9972</th>\n",
              "      <td>Everything is amazimg but the built is very li...</td>\n",
              "      <td>5</td>\n",
              "    </tr>\n",
              "    <tr>\n",
              "      <th>9973</th>\n",
              "      <td>GoodREAD MORE</td>\n",
              "      <td>5</td>\n",
              "    </tr>\n",
              "    <tr>\n",
              "      <th>9974</th>\n",
              "      <td>Best headphone i have ever usedREAD MORE</td>\n",
              "      <td>5</td>\n",
              "    </tr>\n",
              "    <tr>\n",
              "      <th>9975</th>\n",
              "      <td>NiceREAD MORE</td>\n",
              "      <td>5</td>\n",
              "    </tr>\n",
              "  </tbody>\n",
              "</table>\n",
              "<p>9976 rows × 2 columns</p>\n",
              "</div>"
            ],
            "text/plain": [
              "                                                 review  rating\n",
              "0     It was nice produt I like its design a lot  It...       5\n",
              "1     awesome soundvery pretty to see this nd the so...       5\n",
              "2     awesome sound quality pros 78 hrs of battery l...       4\n",
              "3     I think it is such a good product not only as ...       5\n",
              "4     awesome bass sound quality very good bettary l...       5\n",
              "...                                                 ...     ...\n",
              "9971                                      GoodREAD MORE       5\n",
              "9972  Everything is amazimg but the built is very li...       5\n",
              "9973                                      GoodREAD MORE       5\n",
              "9974           Best headphone i have ever usedREAD MORE       5\n",
              "9975                                      NiceREAD MORE       5\n",
              "\n",
              "[9976 rows x 2 columns]"
            ]
          },
          "metadata": {
            "tags": []
          },
          "execution_count": 3
        }
      ]
    },
    {
      "cell_type": "code",
      "metadata": {
        "colab": {
          "base_uri": "https://localhost:8080/",
          "height": 35
        },
        "id": "HpJlY6xch_h7",
        "outputId": "aa52235e-02fc-4d6c-92cf-24d23275614d"
      },
      "source": [
        "\r\n",
        "string.punctuation"
      ],
      "execution_count": null,
      "outputs": [
        {
          "output_type": "execute_result",
          "data": {
            "application/vnd.google.colaboratory.intrinsic+json": {
              "type": "string"
            },
            "text/plain": [
              "'!\"#$%&\\'()*+,-./:;<=>?@[\\\\]^_`{|}~'"
            ]
          },
          "metadata": {
            "tags": []
          },
          "execution_count": 53
        }
      ]
    },
    {
      "cell_type": "code",
      "metadata": {
        "colab": {
          "base_uri": "https://localhost:8080/"
        },
        "id": "H50Lr7JSEBRg",
        "outputId": "8a00ee6a-ab97-43f8-b1da-4ffb94ea38a1"
      },
      "source": [
        "tokenizer=RegexpTokenizer(r'\\w+')\r\n",
        "df['review']=df['review'].apply(lambda x: tokenizer.tokenize(x.lower()))\r\n",
        "df['review']"
      ],
      "execution_count": null,
      "outputs": [
        {
          "output_type": "execute_result",
          "data": {
            "text/plain": [
              "0       [it, was, nice, produt, i, like, its, design, ...\n",
              "1       [awesome, soundvery, pretty, to, see, this, nd...\n",
              "2       [awesome, sound, quality, pros, 78, hrs, of, b...\n",
              "3       [i, think, it, is, such, a, good, product, not...\n",
              "4       [awesome, bass, sound, quality, very, good, be...\n",
              "                              ...                        \n",
              "9971                                     [goodread, more]\n",
              "9972    [everything, is, amazimg, but, the, built, is,...\n",
              "9973                                     [goodread, more]\n",
              "9974     [best, headphone, i, have, ever, usedread, more]\n",
              "9975                                     [niceread, more]\n",
              "Name: review, Length: 9976, dtype: object"
            ]
          },
          "metadata": {
            "tags": []
          },
          "execution_count": 54
        }
      ]
    },
    {
      "cell_type": "code",
      "metadata": {
        "id": "cZA5QEbeED9g"
      },
      "source": [
        "# def removestopwords(s):\r\n",
        "#   words=[i for i in s if i not in stopwords.words('english')]\r\n",
        "#   print(words)\r\n",
        "#   return words\r\n",
        "\r\n",
        "# df['review']=df['review'].apply(lambda x: removestopwords(x))\r\n",
        "# df['review']\r\n",
        "\r\n",
        "# #takes lots of time here so be patient here"
      ],
      "execution_count": null,
      "outputs": []
    },
    {
      "cell_type": "code",
      "metadata": {
        "id": "95rHnd6SpTln"
      },
      "source": [
        "stopwords.words(\"english\")"
      ],
      "execution_count": null,
      "outputs": []
    },
    {
      "cell_type": "code",
      "metadata": {
        "colab": {
          "base_uri": "https://localhost:8080/"
        },
        "id": "MZ1fYisbEGJ-",
        "outputId": "bd937096-d86f-4a5b-dafd-17f5d3d6095b"
      },
      "source": [
        "x = df.iloc[:,0].values\r\n",
        "y = df.iloc[:,1].values\r\n",
        "print(x)\r\n",
        "print(y)"
      ],
      "execution_count": 6,
      "outputs": [
        {
          "output_type": "stream",
          "text": [
            "[\"It was nice produt. I like it's design a lot.  It's easy to carry. And.   Looked stylish.READ MORE\"\n",
            " 'awesome sound....very pretty to see this nd the sound quality was too good I wish to take this product loved this product 😍😍😍READ MORE'\n",
            " 'awesome sound quality. pros 7-8 hrs of battery life (including 45 mins approx call time)Awesome sound output. Bass and treble are really very clear without equaliser. With equaliser, sound wary depends on the handset sound quality.Weightless to carry and in head tooMic is good, but in traffic it is not too good (3.25/5)3.5mm Option is really important to mention. Really expecting other leading brands to implement this.ConsVery tight in ears. adjusters are ok .. this ll be very tight...READ MORE'\n",
            " ... 'GoodREAD MORE' 'Best headphone i have ever used....READ MORE'\n",
            " 'NiceREAD MORE']\n",
            "[5 5 4 ... 5 5 5]\n"
          ],
          "name": "stdout"
        }
      ]
    },
    {
      "cell_type": "code",
      "metadata": {
        "colab": {
          "base_uri": "https://localhost:8080/"
        },
        "id": "SnbwThThEm49",
        "outputId": "89c2921c-5ef6-432a-f382-c7fc8361f1c9"
      },
      "source": [
        "len(x)"
      ],
      "execution_count": null,
      "outputs": [
        {
          "output_type": "execute_result",
          "data": {
            "text/plain": [
              "9976"
            ]
          },
          "metadata": {
            "tags": []
          },
          "execution_count": 8
        }
      ]
    },
    {
      "cell_type": "code",
      "metadata": {
        "id": "LpAoS6v7qAVz"
      },
      "source": [
        "def dummy_fun(doc):\r\n",
        "    return doc\r\n",
        "\r\n",
        "vectorizer = TfidfVectorizer(\r\n",
        "    analyzer='word',\r\n",
        "    tokenizer=dummy_fun,\r\n",
        "    preprocessor=dummy_fun,\r\n",
        "    token_pattern=None)  \r\n",
        "\r\n",
        "x = vectorizer.fit_transform(x)"
      ],
      "execution_count": null,
      "outputs": []
    },
    {
      "cell_type": "code",
      "metadata": {
        "id": "uR3KTPbq7chq",
        "colab": {
          "base_uri": "https://localhost:8080/",
          "height": 166
        },
        "outputId": "9d02bccb-aca9-44ef-b222-e63b6cdf2319"
      },
      "source": [
        "x = x.toarray()\r\n"
      ],
      "execution_count": null,
      "outputs": [
        {
          "output_type": "error",
          "ename": "AttributeError",
          "evalue": "ignored",
          "traceback": [
            "\u001b[0;31m---------------------------------------------------------------------------\u001b[0m",
            "\u001b[0;31mAttributeError\u001b[0m                            Traceback (most recent call last)",
            "\u001b[0;32m<ipython-input-56-8579f52ab70a>\u001b[0m in \u001b[0;36m<module>\u001b[0;34m()\u001b[0m\n\u001b[0;32m----> 1\u001b[0;31m \u001b[0mx\u001b[0m \u001b[0;34m=\u001b[0m \u001b[0mx\u001b[0m\u001b[0;34m.\u001b[0m\u001b[0mtoarray\u001b[0m\u001b[0;34m(\u001b[0m\u001b[0;34m)\u001b[0m\u001b[0;34m\u001b[0m\u001b[0;34m\u001b[0m\u001b[0m\n\u001b[0m",
            "\u001b[0;31mAttributeError\u001b[0m: 'numpy.ndarray' object has no attribute 'toarray'"
          ]
        }
      ]
    },
    {
      "cell_type": "code",
      "metadata": {
        "id": "VFRMkVp9uIuO",
        "colab": {
          "base_uri": "https://localhost:8080/"
        },
        "outputId": "ecf483fa-4af7-42bc-eff8-91d886482bd0"
      },
      "source": [
        "\r\n",
        "x.shape"
      ],
      "execution_count": null,
      "outputs": [
        {
          "output_type": "execute_result",
          "data": {
            "text/plain": [
              "(9976, 9932)"
            ]
          },
          "metadata": {
            "tags": []
          },
          "execution_count": 11
        }
      ]
    },
    {
      "cell_type": "code",
      "metadata": {
        "id": "4AV3MXGxwwF0"
      },
      "source": [
        "\r\n",
        "x_train,x_test,y_train,y_test = train_test_split(x,y,test_size = 0.25,random_state = 0,stratify = y)"
      ],
      "execution_count": 7,
      "outputs": []
    },
    {
      "cell_type": "code",
      "metadata": {
        "colab": {
          "base_uri": "https://localhost:8080/"
        },
        "id": "b1QFYDYwmNwa",
        "outputId": "07fd53f6-e456-44f4-b499-6f3fca0bb3b9"
      },
      "source": [
        "print(x_train.shape)\r\n",
        "print(y_train.shape)\r\n",
        "print(x_test.shape)\r\n",
        "print(y_test.shape)"
      ],
      "execution_count": null,
      "outputs": [
        {
          "output_type": "stream",
          "text": [
            "(7482,)\n",
            "(7482,)\n",
            "(2494,)\n",
            "(2494,)\n"
          ],
          "name": "stdout"
        }
      ]
    },
    {
      "cell_type": "code",
      "metadata": {
        "colab": {
          "base_uri": "https://localhost:8080/"
        },
        "id": "rkO1F76M3jnX",
        "outputId": "90ea7b77-9ef3-454a-8846-d151bd06053d"
      },
      "source": [
        "np.unique(y_train)"
      ],
      "execution_count": null,
      "outputs": [
        {
          "output_type": "execute_result",
          "data": {
            "text/plain": [
              "array([1, 2, 3, 4, 5])"
            ]
          },
          "metadata": {
            "tags": []
          },
          "execution_count": 13
        }
      ]
    },
    {
      "cell_type": "code",
      "metadata": {
        "id": "4NnDGN50mmA5"
      },
      "source": [
        "from sklearn.pipeline import Pipeline\r\n",
        "from sklearn.feature_extraction.text import TfidfVectorizer\r\n",
        "from sklearn.svm import SVC"
      ],
      "execution_count": 11,
      "outputs": []
    },
    {
      "cell_type": "code",
      "metadata": {
        "id": "pDmREg1AffUG"
      },
      "source": [
        ""
      ],
      "execution_count": null,
      "outputs": []
    },
    {
      "cell_type": "code",
      "metadata": {
        "id": "oxYnpCafm3si"
      },
      "source": [
        "text_model = Pipeline([('tfidf',TfidfVectorizer()),('model',SVC())]) "
      ],
      "execution_count": 12,
      "outputs": []
    },
    {
      "cell_type": "code",
      "metadata": {
        "id": "HJi2OQAbm6oR",
        "colab": {
          "base_uri": "https://localhost:8080/"
        },
        "outputId": "fba01149-7873-4287-aa35-4f0b1f25d020"
      },
      "source": [
        "text_model.fit(x_train,y_train)"
      ],
      "execution_count": 13,
      "outputs": [
        {
          "output_type": "execute_result",
          "data": {
            "text/plain": [
              "Pipeline(memory=None,\n",
              "         steps=[('tfidf',\n",
              "                 TfidfVectorizer(analyzer='word', binary=False,\n",
              "                                 decode_error='strict',\n",
              "                                 dtype=<class 'numpy.float64'>,\n",
              "                                 encoding='utf-8', input='content',\n",
              "                                 lowercase=True, max_df=1.0, max_features=None,\n",
              "                                 min_df=1, ngram_range=(1, 1), norm='l2',\n",
              "                                 preprocessor=None, smooth_idf=True,\n",
              "                                 stop_words=None, strip_accents=None,\n",
              "                                 sublinear_tf=False,\n",
              "                                 token_pattern='(?u)\\\\b\\\\w\\\\w+\\\\b',\n",
              "                                 tokenizer=None, use_idf=True,\n",
              "                                 vocabulary=None)),\n",
              "                ('model',\n",
              "                 SVC(C=1.0, break_ties=False, cache_size=200, class_weight=None,\n",
              "                     coef0=0.0, decision_function_shape='ovr', degree=3,\n",
              "                     gamma='scale', kernel='rbf', max_iter=-1,\n",
              "                     probability=False, random_state=None, shrinking=True,\n",
              "                     tol=0.001, verbose=False))],\n",
              "         verbose=False)"
            ]
          },
          "metadata": {
            "tags": []
          },
          "execution_count": 13
        }
      ]
    },
    {
      "cell_type": "code",
      "metadata": {
        "id": "lTraFMafniTH",
        "colab": {
          "base_uri": "https://localhost:8080/"
        },
        "outputId": "a83db429-ea3c-436c-8013-81eb4355c7f7"
      },
      "source": [
        "y_pred = text_model.predict(x_test)\r\n",
        "y_pred"
      ],
      "execution_count": 14,
      "outputs": [
        {
          "output_type": "execute_result",
          "data": {
            "text/plain": [
              "array([5, 1, 4, ..., 5, 5, 5])"
            ]
          },
          "metadata": {
            "tags": []
          },
          "execution_count": 14
        }
      ]
    },
    {
      "cell_type": "code",
      "metadata": {
        "id": "Yjy0mdMjnl6G",
        "colab": {
          "base_uri": "https://localhost:8080/"
        },
        "outputId": "24588886-4e14-42cd-be5d-425e96dfe787"
      },
      "source": [
        "from sklearn.metrics import accuracy_score,classification_report,confusion_matrix\r\n",
        "accuracy_score(y_pred,y_test)*100"
      ],
      "execution_count": 15,
      "outputs": [
        {
          "output_type": "execute_result",
          "data": {
            "text/plain": [
              "65.35685645549319"
            ]
          },
          "metadata": {
            "tags": []
          },
          "execution_count": 15
        }
      ]
    },
    {
      "cell_type": "code",
      "metadata": {
        "id": "r5U1xLjxntgf",
        "colab": {
          "base_uri": "https://localhost:8080/"
        },
        "outputId": "e8352b32-9a81-44f1-8c9d-63ba2f512ab6"
      },
      "source": [
        "confusion_matrix(y_pred,y_test)"
      ],
      "execution_count": 16,
      "outputs": [
        {
          "output_type": "execute_result",
          "data": {
            "text/plain": [
              "array([[ 106,   18,   21,    9,    2],\n",
              "       [   1,    3,    0,    0,    0],\n",
              "       [  15,   13,   40,   18,    9],\n",
              "       [  15,   17,   53,  144,   83],\n",
              "       [  36,   27,  107,  420, 1337]])"
            ]
          },
          "metadata": {
            "tags": []
          },
          "execution_count": 16
        }
      ]
    },
    {
      "cell_type": "code",
      "metadata": {
        "id": "e1Ii7tQVnwIp"
      },
      "source": [
        "# print(classification_report(y_pred,y_test))"
      ],
      "execution_count": null,
      "outputs": []
    },
    {
      "cell_type": "code",
      "metadata": {
        "id": "OHpaoG82n11B"
      },
      "source": [
        "# text_model.predict([\"Very bad product.  Within 5 days it's mic was out of work. I am very disappointed tobuythisproduct. I will never suggest to anyone for buying this product.\"])"
      ],
      "execution_count": null,
      "outputs": []
    },
    {
      "cell_type": "code",
      "metadata": {
        "id": "MXyccLI-FKRw"
      },
      "source": [
        "y_train_1 = keras.utils.to_categorical(y_train)\r\n",
        "y_test_1 = keras.utils.to_categorical(y_test)"
      ],
      "execution_count": null,
      "outputs": []
    },
    {
      "cell_type": "code",
      "metadata": {
        "id": "81nWHZjGFOmE"
      },
      "source": [
        "y_train_1 = y_train_1[:, 1:]\r\n",
        "y_test_1 = y_test_1[:, 1:]"
      ],
      "execution_count": null,
      "outputs": []
    },
    {
      "cell_type": "code",
      "metadata": {
        "id": "RK8Tj05PrWyc"
      },
      "source": [
        "model = keras.models.Sequential([keras.layers.BatchNormalization(input_dim=x_train.shape[1]),\r\n",
        "                                 keras.layers.Dense(100,kernel_initializer=\"he_normal\"),\r\n",
        "                                 keras.layers.PReLU(),\r\n",
        "                                 keras.layers.BatchNormalization(),\r\n",
        "                                 keras.layers.Dropout(0.2),\r\n",
        "                                 keras.layers.Dense(50,kernel_initializer=\"he_normal\"),\r\n",
        "                                 keras.layers.PReLU(),\r\n",
        "                                 keras.layers.BatchNormalization(),\r\n",
        "                                 keras.layers.Dense(5, \"softmax\"),\r\n",
        "                                 ])\r\n",
        "\r\n",
        "model.compile(loss=\"categorical_crossentropy\",\r\n",
        "              optimizer=keras.optimizers.Adam(),\r\n",
        "              metrics=[\"accuracy\"])\r\n",
        "\r\n",
        "early_stopping_cb = keras.callbacks.EarlyStopping(patience=10, restore_best_weights=True)\r\n",
        "\r\n"
      ],
      "execution_count": null,
      "outputs": []
    },
    {
      "cell_type": "code",
      "metadata": {
        "colab": {
          "base_uri": "https://localhost:8080/"
        },
        "id": "2Ks2xWFD629R",
        "outputId": "751e52b7-78a4-4f3d-a3f7-01a3bc2a884d"
      },
      "source": [
        "\r\n",
        "model.summary()"
      ],
      "execution_count": null,
      "outputs": [
        {
          "output_type": "stream",
          "text": [
            "Model: \"sequential_2\"\n",
            "_________________________________________________________________\n",
            "Layer (type)                 Output Shape              Param #   \n",
            "=================================================================\n",
            "batch_normalization_6 (Batch (None, 9932)              39728     \n",
            "_________________________________________________________________\n",
            "dense_6 (Dense)              (None, 100)               993300    \n",
            "_________________________________________________________________\n",
            "p_re_lu_4 (PReLU)            (None, 100)               100       \n",
            "_________________________________________________________________\n",
            "batch_normalization_7 (Batch (None, 100)               400       \n",
            "_________________________________________________________________\n",
            "dropout_2 (Dropout)          (None, 100)               0         \n",
            "_________________________________________________________________\n",
            "dense_7 (Dense)              (None, 50)                5050      \n",
            "_________________________________________________________________\n",
            "p_re_lu_5 (PReLU)            (None, 50)                50        \n",
            "_________________________________________________________________\n",
            "batch_normalization_8 (Batch (None, 50)                200       \n",
            "_________________________________________________________________\n",
            "dense_8 (Dense)              (None, 5)                 255       \n",
            "=================================================================\n",
            "Total params: 1,039,083\n",
            "Trainable params: 1,018,919\n",
            "Non-trainable params: 20,164\n",
            "_________________________________________________________________\n"
          ],
          "name": "stdout"
        }
      ]
    },
    {
      "cell_type": "code",
      "metadata": {
        "colab": {
          "base_uri": "https://localhost:8080/"
        },
        "id": "xNxn1z9TAi9U",
        "outputId": "9f126bb3-8802-4ffb-e4d3-ad900300da88"
      },
      "source": [
        "history = model.fit(x_train, y_train_1, validation_data=(x_test, y_test_1), epochs=50, callbacks=[early_stopping_cb])"
      ],
      "execution_count": null,
      "outputs": [
        {
          "output_type": "stream",
          "text": [
            "Epoch 1/50\n",
            "234/234 [==============================] - 5s 16ms/step - loss: 1.5810 - accuracy: 0.4414 - val_loss: 1.1119 - val_accuracy: 0.5766\n",
            "Epoch 2/50\n",
            "234/234 [==============================] - 4s 15ms/step - loss: 0.7229 - accuracy: 0.7451 - val_loss: 0.9523 - val_accuracy: 0.6391\n",
            "Epoch 3/50\n",
            "234/234 [==============================] - 4s 16ms/step - loss: 0.5497 - accuracy: 0.7997 - val_loss: 1.1886 - val_accuracy: 0.5770\n",
            "Epoch 4/50\n",
            "234/234 [==============================] - 4s 15ms/step - loss: 0.4609 - accuracy: 0.8338 - val_loss: 1.7279 - val_accuracy: 0.4936\n",
            "Epoch 5/50\n",
            "234/234 [==============================] - 4s 15ms/step - loss: 0.4128 - accuracy: 0.8541 - val_loss: 1.7976 - val_accuracy: 0.5036\n",
            "Epoch 6/50\n",
            "234/234 [==============================] - 4s 15ms/step - loss: 0.4003 - accuracy: 0.8522 - val_loss: 1.7952 - val_accuracy: 0.5144\n",
            "Epoch 7/50\n",
            "234/234 [==============================] - 4s 15ms/step - loss: 0.3790 - accuracy: 0.8601 - val_loss: 1.7074 - val_accuracy: 0.5934\n",
            "Epoch 8/50\n",
            "234/234 [==============================] - 4s 15ms/step - loss: 0.3519 - accuracy: 0.8721 - val_loss: 1.7954 - val_accuracy: 0.5814\n",
            "Epoch 9/50\n",
            "234/234 [==============================] - 4s 17ms/step - loss: 0.3378 - accuracy: 0.8751 - val_loss: 1.9231 - val_accuracy: 0.5225\n",
            "Epoch 10/50\n",
            "234/234 [==============================] - 5s 22ms/step - loss: 0.3285 - accuracy: 0.8786 - val_loss: 2.0694 - val_accuracy: 0.5449\n",
            "Epoch 11/50\n",
            "234/234 [==============================] - 4s 15ms/step - loss: 0.3199 - accuracy: 0.8815 - val_loss: 2.4639 - val_accuracy: 0.4659\n",
            "Epoch 12/50\n",
            "234/234 [==============================] - 4s 15ms/step - loss: 0.3115 - accuracy: 0.8772 - val_loss: 2.2335 - val_accuracy: 0.5461\n"
          ],
          "name": "stdout"
        }
      ]
    },
    {
      "cell_type": "code",
      "metadata": {
        "colab": {
          "base_uri": "https://localhost:8080/",
          "height": 285
        },
        "id": "tBqlq2pECtI-",
        "outputId": "ce8cf831-b195-4c04-c7cc-f634daf10cc2"
      },
      "source": [
        "\r\n",
        "import matplotlib.pyplot as plt\r\n",
        "\r\n",
        "pd.DataFrame(history.history).plot()"
      ],
      "execution_count": null,
      "outputs": [
        {
          "output_type": "execute_result",
          "data": {
            "text/plain": [
              "<matplotlib.axes._subplots.AxesSubplot at 0x7fd0c149b6d0>"
            ]
          },
          "metadata": {
            "tags": []
          },
          "execution_count": 150
        },
        {
          "output_type": "display_data",
          "data": {
            "image/png": "[encoded data removed]",
            "text/plain": [
              "<Figure size 432x288 with 1 Axes>"
            ]
          },
          "metadata": {
            "tags": [],
            "needs_background": "light"
          }
        }
      ]
    },
    {
      "cell_type": "code",
      "metadata": {
        "id": "9iDFGIgoK1mO",
        "colab": {
          "base_uri": "https://localhost:8080/"
        },
        "outputId": "c9505c52-a77e-453d-9e4d-599ee2263503"
      },
      "source": [
        "!pip install streamlit\r\n",
        "!pip install pyngrok==4.1.1\r\n",
        "from pyngrok import ngrok"
      ],
      "execution_count": null,
      "outputs": [
        {
          "output_type": "stream",
          "text": [
            "Requirement already satisfied: streamlit in /usr/local/lib/python3.7/dist-packages (0.78.0)\n",
            "Requirement already satisfied: packaging in /usr/local/lib/python3.7/dist-packages (from streamlit) (20.9)\n",
            "Requirement already satisfied: requests in /usr/local/lib/python3.7/dist-packages (from streamlit) (2.23.0)\n",
            "Requirement already satisfied: astor in /usr/local/lib/python3.7/dist-packages (from streamlit) (0.8.1)\n",
            "Requirement already satisfied: pyarrow; python_version < \"3.9\" in /usr/local/lib/python3.7/dist-packages (from streamlit) (3.0.0)\n",
            "Requirement already satisfied: python-dateutil in /usr/local/lib/python3.7/dist-packages (from streamlit) (2.8.1)\n",
            "Requirement already satisfied: cachetools>=4.0 in /usr/local/lib/python3.7/dist-packages (from streamlit) (4.2.1)\n",
            "Requirement already satisfied: altair>=3.2.0 in /usr/local/lib/python3.7/dist-packages (from streamlit) (4.1.0)\n",
            "Requirement already satisfied: validators in /usr/local/lib/python3.7/dist-packages (from streamlit) (0.18.2)\n",
            "Requirement already satisfied: pillow>=6.2.0 in /usr/local/lib/python3.7/dist-packages (from streamlit) (7.0.0)\n",
            "Requirement already satisfied: gitpython in /usr/local/lib/python3.7/dist-packages (from streamlit) (3.1.14)\n",
            "Requirement already satisfied: pandas>=0.21.0 in /usr/local/lib/python3.7/dist-packages (from streamlit) (1.1.5)\n",
            "Requirement already satisfied: toml in /usr/local/lib/python3.7/dist-packages (from streamlit) (0.10.2)\n",
            "Requirement already satisfied: watchdog; platform_system != \"Darwin\" in /usr/local/lib/python3.7/dist-packages (from streamlit) (2.0.2)\n",
            "Requirement already satisfied: tzlocal in /usr/local/lib/python3.7/dist-packages (from streamlit) (1.5.1)\n",
            "Requirement already satisfied: tornado>=5.0 in /usr/local/lib/python3.7/dist-packages (from streamlit) (5.1.1)\n",
            "Requirement already satisfied: click>=7.0 in /usr/local/lib/python3.7/dist-packages (from streamlit) (7.1.2)\n",
            "Requirement already satisfied: base58 in /usr/local/lib/python3.7/dist-packages (from streamlit) (2.1.0)\n",
            "Requirement already satisfied: blinker in /usr/local/lib/python3.7/dist-packages (from streamlit) (1.4)\n",
            "Requirement already satisfied: numpy in /usr/local/lib/python3.7/dist-packages (from streamlit) (1.19.5)\n",
            "Requirement already satisfied: pydeck>=0.1.dev5 in /usr/local/lib/python3.7/dist-packages (from streamlit) (0.6.1)\n",
            "Requirement already satisfied: protobuf!=3.11,>=3.6.0 in /usr/local/lib/python3.7/dist-packages (from streamlit) (3.12.4)\n",
            "Requirement already satisfied: pyparsing>=2.0.2 in /usr/local/lib/python3.7/dist-packages (from packaging->streamlit) (2.4.7)\n",
            "Requirement already satisfied: chardet<4,>=3.0.2 in /usr/local/lib/python3.7/dist-packages (from requests->streamlit) (3.0.4)\n",
            "Requirement already satisfied: urllib3!=1.25.0,!=1.25.1,<1.26,>=1.21.1 in /usr/local/lib/python3.7/dist-packages (from requests->streamlit) (1.24.3)\n",
            "Requirement already satisfied: certifi>=2017.4.17 in /usr/local/lib/python3.7/dist-packages (from requests->streamlit) (2020.12.5)\n",
            "Requirement already satisfied: idna<3,>=2.5 in /usr/local/lib/python3.7/dist-packages (from requests->streamlit) (2.10)\n",
            "Requirement already satisfied: six>=1.5 in /usr/local/lib/python3.7/dist-packages (from python-dateutil->streamlit) (1.15.0)\n",
            "Requirement already satisfied: toolz in /usr/local/lib/python3.7/dist-packages (from altair>=3.2.0->streamlit) (0.11.1)\n",
            "Requirement already satisfied: jsonschema in /usr/local/lib/python3.7/dist-packages (from altair>=3.2.0->streamlit) (2.6.0)\n",
            "Requirement already satisfied: entrypoints in /usr/local/lib/python3.7/dist-packages (from altair>=3.2.0->streamlit) (0.3)\n",
            "Requirement already satisfied: jinja2 in /usr/local/lib/python3.7/dist-packages (from altair>=3.2.0->streamlit) (2.11.3)\n",
            "Requirement already satisfied: decorator>=3.4.0 in /usr/local/lib/python3.7/dist-packages (from validators->streamlit) (4.4.2)\n",
            "Requirement already satisfied: gitdb<5,>=4.0.1 in /usr/local/lib/python3.7/dist-packages (from gitpython->streamlit) (4.0.5)\n",
            "Requirement already satisfied: pytz>=2017.2 in /usr/local/lib/python3.7/dist-packages (from pandas>=0.21.0->streamlit) (2018.9)\n",
            "Requirement already satisfied: ipykernel>=5.1.2; python_version >= \"3.4\" in /usr/local/lib/python3.7/dist-packages (from pydeck>=0.1.dev5->streamlit) (5.5.0)\n",
            "Requirement already satisfied: ipywidgets>=7.0.0 in /usr/local/lib/python3.7/dist-packages (from pydeck>=0.1.dev5->streamlit) (7.6.3)\n",
            "Requirement already satisfied: traitlets>=4.3.2 in /usr/local/lib/python3.7/dist-packages (from pydeck>=0.1.dev5->streamlit) (5.0.5)\n",
            "Requirement already satisfied: setuptools in /usr/local/lib/python3.7/dist-packages (from protobuf!=3.11,>=3.6.0->streamlit) (54.0.0)\n",
            "Requirement already satisfied: MarkupSafe>=0.23 in /usr/local/lib/python3.7/dist-packages (from jinja2->altair>=3.2.0->streamlit) (1.1.1)\n",
            "Requirement already satisfied: smmap<4,>=3.0.1 in /usr/local/lib/python3.7/dist-packages (from gitdb<5,>=4.0.1->gitpython->streamlit) (3.0.5)\n",
            "Requirement already satisfied: ipython>=5.0.0 in /usr/local/lib/python3.7/dist-packages (from ipykernel>=5.1.2; python_version >= \"3.4\"->pydeck>=0.1.dev5->streamlit) (5.5.0)\n",
            "Requirement already satisfied: jupyter-client in /usr/local/lib/python3.7/dist-packages (from ipykernel>=5.1.2; python_version >= \"3.4\"->pydeck>=0.1.dev5->streamlit) (5.3.5)\n",
            "Requirement already satisfied: jupyterlab-widgets>=1.0.0; python_version >= \"3.6\" in /usr/local/lib/python3.7/dist-packages (from ipywidgets>=7.0.0->pydeck>=0.1.dev5->streamlit) (1.0.0)\n",
            "Requirement already satisfied: nbformat>=4.2.0 in /usr/local/lib/python3.7/dist-packages (from ipywidgets>=7.0.0->pydeck>=0.1.dev5->streamlit) (5.1.2)\n",
            "Requirement already satisfied: widgetsnbextension~=3.5.0 in /usr/local/lib/python3.7/dist-packages (from ipywidgets>=7.0.0->pydeck>=0.1.dev5->streamlit) (3.5.1)\n",
            "Requirement already satisfied: ipython-genutils in /usr/local/lib/python3.7/dist-packages (from traitlets>=4.3.2->pydeck>=0.1.dev5->streamlit) (0.2.0)\n",
            "Requirement already satisfied: pygments in /usr/local/lib/python3.7/dist-packages (from ipython>=5.0.0->ipykernel>=5.1.2; python_version >= \"3.4\"->pydeck>=0.1.dev5->streamlit) (2.6.1)\n",
            "Requirement already satisfied: simplegeneric>0.8 in /usr/local/lib/python3.7/dist-packages (from ipython>=5.0.0->ipykernel>=5.1.2; python_version >= \"3.4\"->pydeck>=0.1.dev5->streamlit) (0.8.1)\n",
            "Requirement already satisfied: pickleshare in /usr/local/lib/python3.7/dist-packages (from ipython>=5.0.0->ipykernel>=5.1.2; python_version >= \"3.4\"->pydeck>=0.1.dev5->streamlit) (0.7.5)\n",
            "Requirement already satisfied: prompt-toolkit<2.0.0,>=1.0.4 in /usr/local/lib/python3.7/dist-packages (from ipython>=5.0.0->ipykernel>=5.1.2; python_version >= \"3.4\"->pydeck>=0.1.dev5->streamlit) (1.0.18)\n",
            "Requirement already satisfied: pexpect; sys_platform != \"win32\" in /usr/local/lib/python3.7/dist-packages (from ipython>=5.0.0->ipykernel>=5.1.2; python_version >= \"3.4\"->pydeck>=0.1.dev5->streamlit) (4.8.0)\n",
            "Requirement already satisfied: jupyter-core>=4.6.0 in /usr/local/lib/python3.7/dist-packages (from jupyter-client->ipykernel>=5.1.2; python_version >= \"3.4\"->pydeck>=0.1.dev5->streamlit) (4.7.1)\n",
            "Requirement already satisfied: pyzmq>=13 in /usr/local/lib/python3.7/dist-packages (from jupyter-client->ipykernel>=5.1.2; python_version >= \"3.4\"->pydeck>=0.1.dev5->streamlit) (22.0.3)\n",
            "Requirement already satisfied: notebook>=4.4.1 in /usr/local/lib/python3.7/dist-packages (from widgetsnbextension~=3.5.0->ipywidgets>=7.0.0->pydeck>=0.1.dev5->streamlit) (5.3.1)\n",
            "Requirement already satisfied: wcwidth in /usr/local/lib/python3.7/dist-packages (from prompt-toolkit<2.0.0,>=1.0.4->ipython>=5.0.0->ipykernel>=5.1.2; python_version >= \"3.4\"->pydeck>=0.1.dev5->streamlit) (0.2.5)\n",
            "Requirement already satisfied: ptyprocess>=0.5 in /usr/local/lib/python3.7/dist-packages (from pexpect; sys_platform != \"win32\"->ipython>=5.0.0->ipykernel>=5.1.2; python_version >= \"3.4\"->pydeck>=0.1.dev5->streamlit) (0.7.0)\n",
            "Requirement already satisfied: Send2Trash in /usr/local/lib/python3.7/dist-packages (from notebook>=4.4.1->widgetsnbextension~=3.5.0->ipywidgets>=7.0.0->pydeck>=0.1.dev5->streamlit) (1.5.0)\n",
            "Requirement already satisfied: nbconvert in /usr/local/lib/python3.7/dist-packages (from notebook>=4.4.1->widgetsnbextension~=3.5.0->ipywidgets>=7.0.0->pydeck>=0.1.dev5->streamlit) (5.6.1)\n",
            "Requirement already satisfied: terminado>=0.8.1 in /usr/local/lib/python3.7/dist-packages (from notebook>=4.4.1->widgetsnbextension~=3.5.0->ipywidgets>=7.0.0->pydeck>=0.1.dev5->streamlit) (0.9.2)\n",
            "Requirement already satisfied: pandocfilters>=1.4.1 in /usr/local/lib/python3.7/dist-packages (from nbconvert->notebook>=4.4.1->widgetsnbextension~=3.5.0->ipywidgets>=7.0.0->pydeck>=0.1.dev5->streamlit) (1.4.3)\n",
            "Requirement already satisfied: bleach in /usr/local/lib/python3.7/dist-packages (from nbconvert->notebook>=4.4.1->widgetsnbextension~=3.5.0->ipywidgets>=7.0.0->pydeck>=0.1.dev5->streamlit) (3.3.0)\n",
            "Requirement already satisfied: defusedxml in /usr/local/lib/python3.7/dist-packages (from nbconvert->notebook>=4.4.1->widgetsnbextension~=3.5.0->ipywidgets>=7.0.0->pydeck>=0.1.dev5->streamlit) (0.7.0)\n",
            "Requirement already satisfied: testpath in /usr/local/lib/python3.7/dist-packages (from nbconvert->notebook>=4.4.1->widgetsnbextension~=3.5.0->ipywidgets>=7.0.0->pydeck>=0.1.dev5->streamlit) (0.4.4)\n",
            "Requirement already satisfied: mistune<2,>=0.8.1 in /usr/local/lib/python3.7/dist-packages (from nbconvert->notebook>=4.4.1->widgetsnbextension~=3.5.0->ipywidgets>=7.0.0->pydeck>=0.1.dev5->streamlit) (0.8.4)\n",
            "Requirement already satisfied: webencodings in /usr/local/lib/python3.7/dist-packages (from bleach->nbconvert->notebook>=4.4.1->widgetsnbextension~=3.5.0->ipywidgets>=7.0.0->pydeck>=0.1.dev5->streamlit) (0.5.1)\n",
            "Requirement already satisfied: pyngrok==4.1.1 in /usr/local/lib/python3.7/dist-packages (4.1.1)\n",
            "Requirement already satisfied: future in /usr/local/lib/python3.7/dist-packages (from pyngrok==4.1.1) (0.16.0)\n",
            "Requirement already satisfied: PyYAML in /usr/local/lib/python3.7/dist-packages (from pyngrok==4.1.1) (3.13)\n"
          ],
          "name": "stdout"
        }
      ]
    },
    {
      "cell_type": "code",
      "metadata": {
        "colab": {
          "base_uri": "https://localhost:8080/"
        },
        "id": "IoF4DSAN-wlU",
        "outputId": "71bae6de-0f54-433a-8d85-f8f6e1cb8b54"
      },
      "source": [
        "%%writefile app.py\r\n",
        "\r\n",
        "import streamlit as st\r\n",
        "import pandas as pd\r\n",
        "import numpy as np\r\n",
        "from sklearn.feature_extraction.text import TfidfVectorizer\r\n",
        "import tensorflow as tf\r\n",
        "from tensorflow import keras\r\n",
        "\r\n",
        "import nltk\r\n",
        "nltk.download('stopwords')\r\n",
        "from nltk.corpus import stopwords\r\n",
        "import nltk\r\n",
        "from nltk.tokenize import RegexpTokenizer\r\n",
        "from nltk.stem import WordNetLemmatizer\r\n",
        "from nltk.stem.porter import PorterStemmer\r\n",
        "import string\r\n",
        "\r\n",
        "from sklearn.feature_extraction.text import TfidfVectorizer\r\n",
        "from sklearn.model_selection import train_test_split\r\n",
        "\r\n",
        "df = pd.read_csv('/content/data.csv')\r\n",
        "\r\n",
        "def remove_punctuations(text):\r\n",
        "    for punctuation in string.punctuation:\r\n",
        "        text = text.replace(punctuation, '')\r\n",
        "    return text\r\n",
        "\r\n",
        "df['review'] = df['review'].apply(remove_punctuations)\r\n",
        "\r\n",
        "tokenizer=RegexpTokenizer(r'\\w+')\r\n",
        "df['review']=df['review'].apply(lambda x: tokenizer.tokenize(x.lower()))\r\n",
        "\r\n",
        "def removestopwords(s):\r\n",
        "  words=[i for i in s if i not in stopwords.words('english')]\r\n",
        "  print(words)\r\n",
        "  return words\r\n",
        "\r\n",
        "x = df.iloc[:,0].values\r\n",
        "y = df.iloc[:,1].values\r\n",
        "\r\n",
        "def dummy_fun(doc):\r\n",
        "    return doc\r\n",
        "\r\n",
        "vectorizer = TfidfVectorizer(\r\n",
        "    analyzer='word',\r\n",
        "    tokenizer=dummy_fun,\r\n",
        "    preprocessor=dummy_fun,\r\n",
        "    token_pattern=None)  \r\n",
        "\r\n",
        "x = vectorizer.fit_transform(x)\r\n",
        "x = x.toarray()\r\n",
        "\r\n",
        "x_train,x_test,y_train,y_test = train_test_split(x,y,test_size = 0.05,random_state = 0,stratify = y)\r\n",
        "\r\n",
        "y_train = keras.utils.to_categorical(y_train)\r\n",
        "y_test = keras.utils.to_categorical(y_test)\r\n",
        "\r\n",
        "# y = keras.utils.to_categorical(y)\r\n",
        "# y = y[:, 1:]\r\n",
        "\r\n",
        "y_train = y_train[:, 1:]\r\n",
        "y_test = y_test[:, 1:]\r\n",
        "\r\n",
        "model = keras.models.Sequential([keras.layers.BatchNormalization(input_dim=x_train.shape[1]),\r\n",
        "                                 keras.layers.Dense(100,kernel_initializer=\"he_normal\"),\r\n",
        "                                 keras.layers.PReLU(),\r\n",
        "                                 keras.layers.BatchNormalization(),\r\n",
        "                                 keras.layers.Dropout(0.2),\r\n",
        "                                 keras.layers.Dense(50,kernel_initializer=\"he_normal\"),\r\n",
        "                                 keras.layers.PReLU(),\r\n",
        "                                 keras.layers.BatchNormalization(),\r\n",
        "                                 keras.layers.Dense(5, \"softmax\"),\r\n",
        "                                 ])\r\n",
        "\r\n",
        "model.compile(loss=\"categorical_crossentropy\",\r\n",
        "              optimizer=keras.optimizers.Adam(),\r\n",
        "              metrics=\"accuracy\")\r\n",
        "\r\n",
        "early_stopping_cb = keras.callbacks.EarlyStopping(patience=10, restore_best_weights=True)\r\n",
        "\r\n",
        "history = model.fit(x_train, y_train,validation_data=(x_test,y_test),\r\n",
        "                    epochs=50, callbacks=[early_stopping_cb])\r\n",
        "\r\n",
        "st.title('sentiment analysis')\r\n",
        "select = st.text_input('Enter your message')\r\n",
        "\r\n",
        "select = remove_punctuations(select)\r\n",
        "select = tokenizer.tokenize(select.lower())\r\n",
        "\r\n",
        "select = vectorizer.transform([select]).toarray()\r\n",
        "output = np.argmax(model.predict(select), axis=-1)\r\n",
        "\r\n",
        "st.title(output[0])\r\n"
      ],
      "execution_count": null,
      "outputs": [
        {
          "output_type": "stream",
          "text": [
            "Overwriting app.py\n"
          ],
          "name": "stdout"
        }
      ]
    },
    {
      "cell_type": "code",
      "metadata": {
        "colab": {
          "base_uri": "https://localhost:8080/",
          "height": 53
        },
        "id": "Q4AZLTQnGGIc",
        "outputId": "d5a2086e-3a6b-43a2-ba09-c0137b982a3f"
      },
      "source": [
        "!nohup streamlit run app.py &\r\n",
        "url = ngrok.connect(port='8501')\r\n",
        "url"
      ],
      "execution_count": null,
      "outputs": [
        {
          "output_type": "stream",
          "text": [
            "nohup: appending output to 'nohup.out'\n"
          ],
          "name": "stdout"
        },
        {
          "output_type": "execute_result",
          "data": {
            "application/vnd.google.colaboratory.intrinsic+json": {
              "type": "string"
            },
            "text/plain": [
              "'http://50f941be4114.ngrok.io'"
            ]
          },
          "metadata": {
            "tags": []
          },
          "execution_count": 141
        }
      ]
    },
    {
      "cell_type": "code",
      "metadata": {
        "id": "gaxbuZz3GKEe",
        "colab": {
          "base_uri": "https://localhost:8080/"
        },
        "outputId": "16dfc5b6-9d87-442a-8427-d47cc17cbc77"
      },
      "source": [
        "df = pd.read_csv('/content/data.csv')\n",
        " \n",
        "def remove_punctuations(text):\n",
        "    for punctuation in string.punctuation:\n",
        "        text = text.replace(punctuation, '')\n",
        "    return text\n",
        " \n",
        "df['review'] = df['review'].apply(remove_punctuations)\n",
        " \n",
        "tokenizer=RegexpTokenizer(r'\\w+')\n",
        "df['review']=df['review'].apply(lambda x: tokenizer.tokenize(x.lower()))\n",
        " \n",
        "def removestopwords(s):\n",
        "  words=[i for i in s if i not in stopwords.words('english')]\n",
        "  print(words)\n",
        "  return words\n",
        " \n",
        "x = df.iloc[:,0].values\n",
        "y = df.iloc[:,1].values\n",
        " \n",
        "def dummy_fun(doc):\n",
        "    return doc\n",
        " \n",
        "vectorizer = TfidfVectorizer(\n",
        "    analyzer='word',\n",
        "    tokenizer=dummy_fun,\n",
        "    preprocessor=dummy_fun,\n",
        "    token_pattern=None)  \n",
        " \n",
        "x = vectorizer.fit_transform(x)\n",
        "x = x.toarray()\n",
        " \n",
        "x_train,x_test,y_train,y_test = train_test_split(x,y,test_size = 0.05,random_state = 0,stratify = y)\n",
        " \n",
        "y_train = keras.utils.to_categorical(y_train)\n",
        "y_test = keras.utils.to_categorical(y_test)\n",
        " \n",
        "# y = keras.utils.to_categorical(y)\n",
        "# y = y[:, 1:]\n",
        " \n",
        "y_train = y_train[:, 1:]\n",
        "y_test = y_test[:, 1:]\n",
        " \n",
        "model = keras.models.Sequential([keras.layers.BatchNormalization(input_dim=x_train.shape[1]),\n",
        "                                 keras.layers.Dense(100,kernel_initializer=\"he_normal\"),\n",
        "                                 keras.layers.PReLU(),\n",
        "                                 keras.layers.BatchNormalization(),\n",
        "                                 keras.layers.Dropout(0.2),\n",
        "                                 keras.layers.Dense(50,kernel_initializer=\"he_normal\"),\n",
        "                                 keras.layers.PReLU(),\n",
        "                                 keras.layers.BatchNormalization(),\n",
        "                                 keras.layers.Dense(5, \"softmax\"),\n",
        "                                 ])\n",
        " \n",
        "model.compile(loss=\"categorical_crossentropy\",\n",
        "              optimizer=keras.optimizers.Adam(),\n",
        "              metrics=\"accuriacy\")\n",
        " \n",
        "early_stopping_cb = keras.callbacks.EarlyStopping(patience=10, restore_best_weights=True)\n",
        " \n",
        "history = model.fit(x_train, y_train,validation_data=(x_test,y_test),\n",
        "                    epochs=50, callbacks=[early_stopping_cb])"
      ],
      "execution_count": null,
      "outputs": [
        {
          "output_type": "stream",
          "text": [
            "Epoch 1/50\n",
            "297/297 [==============================] - 6s 16ms/step - loss: 1.4970 - accuracy: 0.4615 - val_loss: 1.0667 - val_accuracy: 0.5792\n",
            "Epoch 2/50\n",
            "297/297 [==============================] - 4s 15ms/step - loss: 0.7086 - accuracy: 0.7405 - val_loss: 1.0348 - val_accuracy: 0.6052\n",
            "Epoch 3/50\n",
            "297/297 [==============================] - 4s 15ms/step - loss: 0.5361 - accuracy: 0.8071 - val_loss: 1.4020 - val_accuracy: 0.6132\n",
            "Epoch 4/50\n",
            "297/297 [==============================] - 4s 15ms/step - loss: 0.4617 - accuracy: 0.8325 - val_loss: 2.2681 - val_accuracy: 0.4028\n",
            "Epoch 5/50\n",
            "297/297 [==============================] - 4s 15ms/step - loss: 0.4473 - accuracy: 0.8386 - val_loss: 1.6339 - val_accuracy: 0.5471\n",
            "Epoch 6/50\n",
            "297/297 [==============================] - 4s 15ms/step - loss: 0.3960 - accuracy: 0.8523 - val_loss: 2.1476 - val_accuracy: 0.4228\n",
            "Epoch 7/50\n",
            "297/297 [==============================] - 4s 15ms/step - loss: 0.3875 - accuracy: 0.8555 - val_loss: 1.7765 - val_accuracy: 0.5491\n",
            "Epoch 8/50\n",
            "297/297 [==============================] - 4s 15ms/step - loss: 0.3652 - accuracy: 0.8653 - val_loss: 1.9406 - val_accuracy: 0.5812\n",
            "Epoch 9/50\n",
            "297/297 [==============================] - 4s 15ms/step - loss: 0.3541 - accuracy: 0.8646 - val_loss: 2.1535 - val_accuracy: 0.5972\n",
            "Epoch 10/50\n",
            "297/297 [==============================] - 4s 15ms/step - loss: 0.3548 - accuracy: 0.8658 - val_loss: 2.0872 - val_accuracy: 0.5571\n",
            "Epoch 11/50\n",
            "297/297 [==============================] - 4s 15ms/step - loss: 0.3310 - accuracy: 0.8672 - val_loss: 2.5386 - val_accuracy: 0.4689\n",
            "Epoch 12/50\n",
            "297/297 [==============================] - 4s 15ms/step - loss: 0.3426 - accuracy: 0.8730 - val_loss: 2.1118 - val_accuracy: 0.5972\n"
          ],
          "name": "stdout"
        }
      ]
    },
    {
      "cell_type": "code",
      "metadata": {
        "id": "sAGqCNr8MnM9"
      },
      "source": [
        ""
      ],
      "execution_count": null,
      "outputs": []
    }
  ]
}